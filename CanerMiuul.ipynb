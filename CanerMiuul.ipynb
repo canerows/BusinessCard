{
  "nbformat": 4,
  "nbformat_minor": 0,
  "metadata": {
    "colab": {
      "provenance": [],
      "toc_visible": true,
      "authorship_tag": "ABX9TyOAXSForT+P0s7M1Vfam3nO",
      "include_colab_link": true
    },
    "kernelspec": {
      "name": "python3",
      "display_name": "Python 3"
    },
    "language_info": {
      "name": "python"
    }
  },
  "cells": [
    {
      "cell_type": "markdown",
      "metadata": {
        "id": "view-in-github",
        "colab_type": "text"
      },
      "source": [
        "<a href=\"https://colab.research.google.com/github/canerows/BusinessCard/blob/main/CanerMiuul.ipynb\" target=\"_parent\"><img src=\"https://colab.research.google.com/assets/colab-badge.svg\" alt=\"Open In Colab\"/></a>"
      ]
    },
    {
      "cell_type": "markdown",
      "source": [
        "# Miuul"
      ],
      "metadata": {
        "id": "ZRPbOtFBCF3X"
      }
    },
    {
      "cell_type": "markdown",
      "source": [
        "# If koşulu"
      ],
      "metadata": {
        "id": "HdN4Ea8UGbhv"
      }
    },
    {
      "cell_type": "code",
      "source": [
        "x = (6)\n",
        "if x > 4:\n",
        "  print(x)"
      ],
      "metadata": {
        "colab": {
          "base_uri": "https://localhost:8080/"
        },
        "id": "eHISFc62L2tb",
        "outputId": "015058d4-8349-4514-8e7a-b3c7d1b0632a"
      },
      "execution_count": 11,
      "outputs": [
        {
          "output_type": "stream",
          "name": "stdout",
          "text": [
            "6\n"
          ]
        }
      ]
    },
    {
      "cell_type": "markdown",
      "source": [
        "# Else & Elif"
      ],
      "metadata": {
        "id": "9Xker0P0NVUN"
      }
    },
    {
      "cell_type": "code",
      "source": [
        "x = (6)\n",
        "if x > 4:\n",
        "  print(x)\n",
        "else:\n",
        "  print(\"yanlış\")"
      ],
      "metadata": {
        "colab": {
          "base_uri": "https://localhost:8080/"
        },
        "id": "n6-dRvSHNkPg",
        "outputId": "7293278e-19c2-423e-f3e6-f21611fd2ccf"
      },
      "execution_count": 12,
      "outputs": [
        {
          "output_type": "stream",
          "name": "stdout",
          "text": [
            "6\n"
          ]
        }
      ]
    },
    {
      "cell_type": "code",
      "source": [
        "def number_check(number):\n",
        "  if number > 10:\n",
        "    print(\"greater than 10\")\n",
        "  elif number < 10:\n",
        "    print(\"less than 10\")\n",
        "  else:\n",
        "    print(\"equal to 10\")\n",
        "\n",
        "number_check(10)"
      ],
      "metadata": {
        "colab": {
          "base_uri": "https://localhost:8080/"
        },
        "id": "VQOvq_NOOYW9",
        "outputId": "5c0097d1-bd5c-499b-bd73-cb9b5cb9b436"
      },
      "execution_count": 14,
      "outputs": [
        {
          "output_type": "stream",
          "name": "stdout",
          "text": [
            "equal to 10\n"
          ]
        }
      ]
    },
    {
      "cell_type": "markdown",
      "source": [
        "# For döngüsü"
      ],
      "metadata": {
        "id": "ER0bXF_7O9Li"
      }
    },
    {
      "cell_type": "code",
      "source": [
        "students = [\"Ali\", \"Veli\", \"Caner\"]\n",
        "students[0]\n",
        "students[1]\n",
        "students[2]\n",
        "\n",
        "for student in students:\n",
        "  print(student)\n",
        "\n",
        "for student in students:\n",
        "  print(student.upper())\n",
        "\n",
        "salaries = [1000, 2000, 3000, 4000, 5000]\n",
        "for salary in salaries:\n",
        "  print(salary*0.2 + salary)\n",
        "\n",
        "for salary in salaries:\n",
        "  print(int(salary*0.2 + salary))\n",
        "\n",
        "def new_salary(salary, rate):\n",
        "  return(int(salary*rate/100 + salary))\n",
        "\n",
        "new_salary(1500, 10)\n",
        "\n",
        "for salary in salaries:\n",
        "  print(new_salary(salary, 15))\n",
        "\n",
        "for salary in salaries:\n",
        "  if salary > 3000:\n",
        "    print(new_salary(salary, 10))\n",
        "  elif salary < 3000:\n",
        "    print(new_salary(salary, 20))\n",
        "  else:\n",
        "    print(new_salary(salary, 0))"
      ],
      "metadata": {
        "colab": {
          "base_uri": "https://localhost:8080/"
        },
        "id": "L8trvIWaPuFk",
        "outputId": "6a4b5736-3411-48f1-b829-b800f3c5f728"
      },
      "execution_count": 24,
      "outputs": [
        {
          "output_type": "stream",
          "name": "stdout",
          "text": [
            "Ali\n",
            "Veli\n",
            "Caner\n",
            "ALI\n",
            "VELI\n",
            "CANER\n",
            "1200.0\n",
            "2400.0\n",
            "3600.0\n",
            "4800.0\n",
            "6000.0\n",
            "1200\n",
            "2400\n",
            "3600\n",
            "4800\n",
            "6000\n",
            "1150\n",
            "2300\n",
            "3450\n",
            "4600\n",
            "5750\n",
            "1200\n",
            "2400\n",
            "3000\n",
            "4400\n",
            "5500\n"
          ]
        }
      ]
    },
    {
      "cell_type": "code",
      "source": [],
      "metadata": {
        "id": "2Rfr1T9fQ45B"
      },
      "execution_count": null,
      "outputs": []
    },
    {
      "cell_type": "markdown",
      "source": [
        "# Break & While & Continue"
      ],
      "metadata": {
        "id": "hzXEg0KRp_jO"
      }
    },
    {
      "cell_type": "code",
      "source": [
        "salaries = [1000, 2000, 3000, 4000, 5000]\n",
        "for salary in salaries:\n",
        "  if salary == 3000:\n",
        "    break\n",
        "  print(salary)"
      ],
      "metadata": {
        "colab": {
          "base_uri": "https://localhost:8080/"
        },
        "id": "lvd8q_14qp2q",
        "outputId": "9f984b7b-9d15-4a30-e347-c365e5fbb9a9"
      },
      "execution_count": 32,
      "outputs": [
        {
          "output_type": "stream",
          "name": "stdout",
          "text": [
            "1000\n",
            "2000\n"
          ]
        }
      ]
    },
    {
      "cell_type": "code",
      "source": [
        "salaries = [1000, 2000, 3000, 4000, 5000]\n",
        "for salary in salaries:\n",
        "  if salary == 3000:\n",
        "    continue\n",
        "  print(salary)"
      ],
      "metadata": {
        "colab": {
          "base_uri": "https://localhost:8080/"
        },
        "id": "xS4G8Zm8sezb",
        "outputId": "b70f489b-188d-4f63-c57f-a0ff2d05ec53"
      },
      "execution_count": 33,
      "outputs": [
        {
          "output_type": "stream",
          "name": "stdout",
          "text": [
            "1000\n",
            "2000\n",
            "4000\n",
            "5000\n"
          ]
        }
      ]
    },
    {
      "cell_type": "code",
      "source": [
        "number = 1\n",
        "while number < 5:\n",
        "  print(number)\n",
        "  number += 1"
      ],
      "metadata": {
        "colab": {
          "base_uri": "https://localhost:8080/"
        },
        "id": "dlxppVOus-8O",
        "outputId": "5f9d2c2c-7b29-4ff1-b546-915b815ddd84"
      },
      "execution_count": 34,
      "outputs": [
        {
          "output_type": "stream",
          "name": "stdout",
          "text": [
            "1\n",
            "2\n",
            "3\n",
            "4\n"
          ]
        }
      ]
    },
    {
      "cell_type": "markdown",
      "source": [
        "# Enumerate"
      ],
      "metadata": {
        "id": "J38OUmn-tqg1"
      }
    },
    {
      "cell_type": "code",
      "source": [
        "students = [\"John\", \"Mark\", \"Venessa\", \"Mariam\"]\n",
        "for student in students:\n",
        "  print(student)\n",
        "for index, student in enumerate(students):\n",
        "  print(index, student)\n",
        "# öğrencilerin listesinin 1' den başlaması için\n",
        "for index, student in enumerate(students, 1):\n",
        "  print(index, student)\n",
        "# Çift harflileri A listesine, Tekleri B' ye ekleme\n",
        "A = []\n",
        "B = []\n",
        "# A bir listedir, B bir listedir diye ekledik\n",
        "for index, student in enumerate(students):\n",
        "  if index % 2 ==0:\n",
        "    A.append(student)\n",
        "  else:\n",
        "    B.append(student)\n",
        "print(A)\n",
        "print(B)"
      ],
      "metadata": {
        "colab": {
          "base_uri": "https://localhost:8080/"
        },
        "id": "vb-SkIgHtut0",
        "outputId": "07cb4bd3-486d-409b-9d81-818a4a28bd73"
      },
      "execution_count": 44,
      "outputs": [
        {
          "output_type": "stream",
          "name": "stdout",
          "text": [
            "John\n",
            "Mark\n",
            "Venessa\n",
            "Mariam\n",
            "0 John\n",
            "1 Mark\n",
            "2 Venessa\n",
            "3 Mariam\n",
            "1 John\n",
            "2 Mark\n",
            "3 Venessa\n",
            "4 Mariam\n",
            "['John', 'Venessa']\n",
            "['Mark', 'Mariam']\n"
          ]
        }
      ]
    },
    {
      "cell_type": "markdown",
      "source": [
        "# Alternating fonksiyonunun Enumerate ile yazılması"
      ],
      "metadata": {
        "id": "SI6VmnIIwG8m"
      }
    },
    {
      "cell_type": "code",
      "source": [
        "def alternating_with_enumerate(string):\n",
        "  new_string = \"\"\n",
        "  for i, letter in enumerate(string):\n",
        "    if i % 2 == 0:\n",
        "      new_string += letter.upper()\n",
        "    else:\n",
        "      new_string += letter.lower()\n",
        "  print(new_string)\n",
        "\n",
        "alternating_with_enumerate(\"hi my name is john and i am learning python\")\n"
      ],
      "metadata": {
        "colab": {
          "base_uri": "https://localhost:8080/"
        },
        "id": "lz63SaxtwOCA",
        "outputId": "06e57e00-3e70-457f-c061-a1b1826220ed"
      },
      "execution_count": 45,
      "outputs": [
        {
          "output_type": "stream",
          "name": "stdout",
          "text": [
            "Hi mY NaMe iS JoHn aNd i aM LeArNiNg pYtHoN\n"
          ]
        }
      ]
    },
    {
      "cell_type": "markdown",
      "source": [
        "# Zip"
      ],
      "metadata": {
        "id": "k9-9E3apxWhK"
      }
    },
    {
      "cell_type": "code",
      "source": [
        "students = [\"John\", \"Mark\", \"Venessa\", \"Mariam\"]\n",
        "departments = [\"mathematics\", \"statistics\", \"physics\", \"astronomy\"]\n",
        "ages = [23, 30, 26, 22]\n",
        "\n",
        "list(zip(students, departments, ages))"
      ],
      "metadata": {
        "colab": {
          "base_uri": "https://localhost:8080/"
        },
        "id": "eS8L72VtxZSM",
        "outputId": "359296b6-48e2-4822-c445-a200e14e9bdf"
      },
      "execution_count": 46,
      "outputs": [
        {
          "output_type": "execute_result",
          "data": {
            "text/plain": [
              "[('John', 'mathematics', 23),\n",
              " ('Mark', 'statistics', 30),\n",
              " ('Venessa', 'physics', 26),\n",
              " ('Mariam', 'astronomy', 22)]"
            ]
          },
          "metadata": {},
          "execution_count": 46
        }
      ]
    },
    {
      "cell_type": "markdown",
      "source": [
        "# Lambda & Map & Filter & Reduce"
      ],
      "metadata": {
        "id": "AJ3w2EyOyLSA"
      }
    },
    {
      "cell_type": "code",
      "source": [
        "# lambda kullan at tek seferlik fonksiyondur\n",
        "def summer(a, b):\n",
        "  return a + b\n",
        "summer(1, 3) * 9\n",
        "new_sum = lambda a, b: a + b\n",
        "new_sum(4, 5)"
      ],
      "metadata": {
        "colab": {
          "base_uri": "https://localhost:8080/"
        },
        "id": "eHxPEy1zyPHG",
        "outputId": "6b709dd7-bf44-4175-bfec-a30bd5f0e86b"
      },
      "execution_count": 48,
      "outputs": [
        {
          "output_type": "execute_result",
          "data": {
            "text/plain": [
              "9"
            ]
          },
          "metadata": {},
          "execution_count": 48
        }
      ]
    },
    {
      "cell_type": "code",
      "source": [
        "# map döngü\n",
        "salaries = [1000, 2000, 3000, 4000, 5000]\n",
        "def new_salary(x):\n",
        "  return x * 0.2 + x\n",
        "new_salary(5000)\n",
        "\n",
        "for salary in salaries:\n",
        "  print(new_salary(salary))\n",
        "\n",
        "list(map(lambda x: x * 0.2 + x, salaries))"
      ],
      "metadata": {
        "colab": {
          "base_uri": "https://localhost:8080/"
        },
        "id": "498CY_lTzBu8",
        "outputId": "9949282e-a08c-4d9c-c827-7dc7cd3e5f26"
      },
      "execution_count": 56,
      "outputs": [
        {
          "output_type": "stream",
          "name": "stdout",
          "text": [
            "1200.0\n",
            "2400.0\n",
            "3600.0\n",
            "4800.0\n",
            "6000.0\n"
          ]
        },
        {
          "output_type": "execute_result",
          "data": {
            "text/plain": [
              "[1200.0, 2400.0, 3600.0, 4800.0, 6000.0]"
            ]
          },
          "metadata": {},
          "execution_count": 56
        }
      ]
    },
    {
      "cell_type": "code",
      "source": [
        "# filter belirli bir koşulu sağlayanları seçmek için var\n",
        "list_store = [1, 2, 3, 4, 5, 6, 7, 8, 9, 10]\n",
        "# Sıfıra bölümünden kalan sıfır mıdırın cevabını arayacağız\n",
        "list(filter(lambda x: x %2 == 0, list_store))"
      ],
      "metadata": {
        "colab": {
          "base_uri": "https://localhost:8080/"
        },
        "id": "bRuuEyAfBL23",
        "outputId": "4639192d-a63d-45e4-a457-0ac78a952516"
      },
      "execution_count": 58,
      "outputs": [
        {
          "output_type": "execute_result",
          "data": {
            "text/plain": [
              "[2, 4, 6, 8, 10]"
            ]
          },
          "metadata": {},
          "execution_count": 58
        }
      ]
    },
    {
      "cell_type": "code",
      "source": [
        "# reduce\n",
        "from functools import reduce\n",
        "list_store = [1, 2, 3, 4]\n",
        "reduce(lambda a, b: a + b, list_store)"
      ],
      "metadata": {
        "colab": {
          "base_uri": "https://localhost:8080/"
        },
        "id": "opY1sWkzBwN6",
        "outputId": "ca734f06-6081-467b-be71-517973cf5065"
      },
      "execution_count": 59,
      "outputs": [
        {
          "output_type": "execute_result",
          "data": {
            "text/plain": [
              "10"
            ]
          },
          "metadata": {},
          "execution_count": 59
        }
      ]
    },
    {
      "cell_type": "markdown",
      "source": [
        "# List Comprehensions"
      ],
      "metadata": {
        "id": "gfKYLO_LCrn9"
      }
    },
    {
      "cell_type": "code",
      "source": [
        "# Birden fazla işlemi yapıp listeye eklemek\n",
        "salaries = [1000, 2000, 3000, 4000, 5000]\n",
        "\n",
        "def new_salary(x):\n",
        "  return x * 0.2 + x\n",
        "\n",
        "for salary in salaries:\n",
        "  print(new_salary(salary))\n",
        "\n",
        "null_list = []\n",
        "\n",
        "for salary in salaries:\n",
        "  null_list.append(new_salary(salary))\n",
        "\n",
        "null_list = []\n",
        "\n",
        "for salary in salaries:\n",
        "  if salary > 3000:\n",
        "    null_list.append(new_salary(salary))\n",
        "  else:\n",
        "    null_list.append(new_salary(salary * 2))\n",
        "print(null_list)\n",
        "\n",
        "# Bu kadar uzun işlemi list comprehensionsta tek satırda halledebiliyoruz\n",
        "\n",
        "[new_salary(salary * 2) if salary < 3000 else new_salary(salary) for salary in salaries]\n",
        "\n",
        "# Aynı veri üzerinde farklı bir örnek\n",
        "\n",
        "[salary * 2 for salary in salaries if salary < 3000]\n",
        "\n",
        "# Eğer sadece if varsa if sağda, ancak if ve else varsa bunlar solda, for sağda olur\n",
        "\n",
        "[salary * 2 if salary < 3000 else salary * 0 for salary in salaries]\n"
      ],
      "metadata": {
        "colab": {
          "base_uri": "https://localhost:8080/"
        },
        "id": "9v7sCyJWCw-o",
        "outputId": "e5fb16bc-0806-4eb3-fe38-4ed28044506e"
      },
      "execution_count": 68,
      "outputs": [
        {
          "output_type": "stream",
          "name": "stdout",
          "text": [
            "1200.0\n",
            "2400.0\n",
            "3600.0\n",
            "4800.0\n",
            "6000.0\n",
            "[2400.0, 4800.0, 7200.0, 4800.0, 6000.0]\n"
          ]
        },
        {
          "output_type": "execute_result",
          "data": {
            "text/plain": [
              "[2000, 4000, 0, 0, 0]"
            ]
          },
          "metadata": {},
          "execution_count": 68
        }
      ]
    },
    {
      "cell_type": "code",
      "source": [
        "# Öğrenciler ve istenmeyen öğrencileri ayırma\n",
        "\n",
        "students = [\"John\", \"Mark\", \"Venessa\", \"Mariam\"]\n",
        "students_no = [\"John\", \"Venessa\"]\n",
        "\n",
        "[student.lower() if student in students_no else student.upper() for student in students]\n",
        "# ya da\n",
        "[student.upper() if student not in students_no else student.lower() for student in students]\n"
      ],
      "metadata": {
        "colab": {
          "base_uri": "https://localhost:8080/"
        },
        "id": "899vvz47F127",
        "outputId": "691a9078-08cd-4ee5-eff4-5d4286697d97"
      },
      "execution_count": 70,
      "outputs": [
        {
          "output_type": "execute_result",
          "data": {
            "text/plain": [
              "['john', 'MARK', 'venessa', 'MARIAM']"
            ]
          },
          "metadata": {},
          "execution_count": 70
        }
      ]
    },
    {
      "cell_type": "markdown",
      "source": [
        "# Dict Comprehensions"
      ],
      "metadata": {
        "id": "uxY0yEhqHQcJ"
      }
    },
    {
      "cell_type": "code",
      "source": [
        "# Tek bir satırda birden fazla işlemi ifade eder\n",
        "dictionary = {'a': 1,\n",
        "              'b': 2,\n",
        "              'c': 3,\n",
        "              'd': 4}\n",
        "dictionary.keys()\n",
        "dictionary.values()\n",
        "dictionary.items()\n",
        "#amacımız key değerlerin karesini almak olsun\n",
        "{k: v ** 2 for (k, v) in dictionary.items()}\n",
        "#ya da öyle bir şey yapalım\n",
        "{k.upper(): v for (k, v) in dictionary.items()}"
      ],
      "metadata": {
        "colab": {
          "base_uri": "https://localhost:8080/"
        },
        "id": "SFpUq9f8HV2L",
        "outputId": "464dae3a-2b8c-437f-8340-143f1009c007"
      },
      "execution_count": 76,
      "outputs": [
        {
          "output_type": "execute_result",
          "data": {
            "text/plain": [
              "{'A': 1, 'B': 2, 'C': 3, 'D': 4}"
            ]
          },
          "metadata": {},
          "execution_count": 76
        }
      ]
    },
    {
      "cell_type": "code",
      "source": [
        "# Uygulama sorusu Amaç çift sayıların karesini alarak yeni bir sözlüğe eklemek olsun\n",
        "numbers = range(10)\n",
        "new_dict = {}\n",
        "\n",
        "for n in numbers:\n",
        "  if n % 2 == 0:\n",
        "    new_dict[n] = n ** 2\n",
        "print(new_dict)\n",
        "\n",
        "# ya da daha kolayı\n",
        "{n: n ** 2 for n in numbers if n % 2 == 0}"
      ],
      "metadata": {
        "colab": {
          "base_uri": "https://localhost:8080/"
        },
        "id": "w8ZAPgmDJCbV",
        "outputId": "77893422-022b-497b-92cf-123212615912"
      },
      "execution_count": 80,
      "outputs": [
        {
          "output_type": "stream",
          "name": "stdout",
          "text": [
            "{0: 0, 2: 4, 4: 16, 6: 36, 8: 64}\n"
          ]
        },
        {
          "output_type": "execute_result",
          "data": {
            "text/plain": [
              "{0: 0, 2: 4, 4: 16, 6: 36, 8: 64}"
            ]
          },
          "metadata": {},
          "execution_count": 80
        }
      ]
    },
    {
      "cell_type": "code",
      "source": [
        "# List and Comprehensions Uygulamaları\n",
        "# before önceki halleri şu olanları\n",
        "# ['total', 'speeding', 'alcohol', 'not_distracted', 'no_previous', 'ins_premium', 'ins_losses', 'abbrev']\n",
        "# after şöyle olmaları isteniyormuş\n",
        "# ['TOTAL', 'SPEEDING', 'ALCOHOL', 'NOT_DISTRACTED', 'NO_PREVIOUS', 'INS_PREMIUM', 'INS_LOSSES', 'ABBREV']\n",
        "\n",
        "import seaborn as sns\n",
        "df = sns.load_dataset(\"car_crashes\")\n",
        "df.columns\n",
        "\n",
        "for col in df.columns:\n",
        "  print(col.upper())\n",
        "\n",
        "A = []\n",
        "\n",
        "for col in df.columns:\n",
        "  A.append(col.upper())\n",
        "\n",
        "print(A)\n",
        "\n",
        "# Kolonda Adında ins olanların başına Flag, olmayanlara No flag ekleme\n",
        "\n",
        "[col for col in df.columns if \"INS\" in col]\n",
        "[\"FLAG_\" + col if \"INS\" in col else \"NO_FLAG_\" + col for col in df.columns]"
      ],
      "metadata": {
        "colab": {
          "base_uri": "https://localhost:8080/"
        },
        "id": "V88qyHJfJ_-g",
        "outputId": "9200013d-bc94-4219-daa3-8c8c52786d51"
      },
      "execution_count": 101,
      "outputs": [
        {
          "output_type": "stream",
          "name": "stdout",
          "text": [
            "TOTAL\n",
            "SPEEDING\n",
            "ALCOHOL\n",
            "NOT_DISTRACTED\n",
            "NO_PREVIOUS\n",
            "INS_PREMIUM\n",
            "INS_LOSSES\n",
            "ABBREV\n",
            "['TOTAL', 'SPEEDING', 'ALCOHOL', 'NOT_DISTRACTED', 'NO_PREVIOUS', 'INS_PREMIUM', 'INS_LOSSES', 'ABBREV']\n"
          ]
        },
        {
          "output_type": "execute_result",
          "data": {
            "text/plain": [
              "['NO_FLAG_total',\n",
              " 'NO_FLAG_speeding',\n",
              " 'NO_FLAG_alcohol',\n",
              " 'NO_FLAG_not_distracted',\n",
              " 'NO_FLAG_no_previous',\n",
              " 'NO_FLAG_ins_premium',\n",
              " 'NO_FLAG_ins_losses',\n",
              " 'NO_FLAG_abbrev']"
            ]
          },
          "metadata": {},
          "execution_count": 101
        }
      ]
    },
    {
      "cell_type": "code",
      "source": [
        "# ödev 1\n",
        "import seaborn as sns\n",
        "df = sns.load_dataset(\"car_crashes\")\n",
        "df.columns\n",
        "\n",
        "A = []\n",
        "for col in df.columns:\n",
        "  A.append(col.upper())\n",
        "\n",
        "[\"NUM_\" + col for col in A]"
      ],
      "metadata": {
        "colab": {
          "base_uri": "https://localhost:8080/"
        },
        "id": "dxE-SsJ1PFSg",
        "outputId": "e63a30bf-4af8-4e88-a23d-250320230f7a"
      },
      "execution_count": 121,
      "outputs": [
        {
          "output_type": "execute_result",
          "data": {
            "text/plain": [
              "['NUM_TOTAL',\n",
              " 'NUM_SPEEDING',\n",
              " 'NUM_ALCOHOL',\n",
              " 'NUM_NOT_DISTRACTED',\n",
              " 'NUM_NO_PREVIOUS',\n",
              " 'NUM_INS_PREMIUM',\n",
              " 'NUM_INS_LOSSES',\n",
              " 'NUM_ABBREV']"
            ]
          },
          "metadata": {},
          "execution_count": 121
        }
      ]
    },
    {
      "cell_type": "code",
      "source": [
        "# ödev 2\n",
        "import seaborn as sns\n",
        "df = sns.load_dataset(\"car_crashes\")\n",
        "df.columns\n",
        "\n",
        "A = []\n",
        "for col in df.columns:\n",
        "  A.append(col.upper())\n",
        "\n",
        "[col + \"_FLAG\" for col in A if not \"NO\" in A]"
      ],
      "metadata": {
        "colab": {
          "base_uri": "https://localhost:8080/"
        },
        "id": "qNLo05m-S0L5",
        "outputId": "acbb7e89-cd96-4659-e244-5386b8f563c3"
      },
      "execution_count": 122,
      "outputs": [
        {
          "output_type": "execute_result",
          "data": {
            "text/plain": [
              "['TOTAL_FLAG',\n",
              " 'SPEEDING_FLAG',\n",
              " 'ALCOHOL_FLAG',\n",
              " 'NOT_DISTRACTED_FLAG',\n",
              " 'NO_PREVIOUS_FLAG',\n",
              " 'INS_PREMIUM_FLAG',\n",
              " 'INS_LOSSES_FLAG',\n",
              " 'ABBREV_FLAG']"
            ]
          },
          "metadata": {},
          "execution_count": 122
        }
      ]
    }
  ]
}